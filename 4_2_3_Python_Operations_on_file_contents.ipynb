{
  "cells": [
    {
      "cell_type": "markdown",
      "metadata": {
        "id": "view-in-github",
        "colab_type": "text"
      },
      "source": [
        "<a href=\"https://colab.research.google.com/github/Nithin0203/OOPS-Concepts-/blob/main/4_2_3_Python_Operations_on_file_contents.ipynb\" target=\"_parent\"><img src=\"https://colab.research.google.com/assets/colab-badge.svg\" alt=\"Open In Colab\"/></a>"
      ]
    },
    {
      "cell_type": "markdown",
      "metadata": {
        "id": "HcVYk3YcbDun"
      },
      "source": [
        "# Python-Operations on file contents"
      ]
    },
    {
      "cell_type": "markdown",
      "metadata": {
        "id": "AJX9xEL-bDuq"
      },
      "source": [
        "Lets see some examples that helps us to carry out certain operations on the file contents like processing the contents of file."
      ]
    },
    {
      "cell_type": "markdown",
      "metadata": {
        "id": "aoTaBDSTbDur"
      },
      "source": [
        "<b> Example1 - finding a user defined word from the user defined file name<b>"
      ]
    },
    {
      "cell_type": "code",
      "execution_count": null,
      "metadata": {
        "id": "Y-bjln2gbDur"
      },
      "outputs": [],
      "source": [
        "file_name = input(\"Enter the file name \\n\")\n",
        "word = input(\"Enter word to be searched in file \")\n",
        "\n",
        "try:\n",
        "    file = open(file_name)\n",
        "\n",
        "    for line in file:\n",
        "        if line.find(word) == -1:\n",
        "            continue\n",
        "        print(line)\n",
        "    file.close()\n",
        "except:\n",
        "    print(\"File \", file_name, \" not found.\")\n",
        "\n",
        ""
      ]
    },
    {
      "cell_type": "markdown",
      "metadata": {
        "id": "KHidR_8qbDus"
      },
      "source": [
        "<b> Example 2 - Reading content from file doing data processing on it <b>"
      ]
    },
    {
      "cell_type": "markdown",
      "metadata": {
        "id": "kSsYy6DWbDut"
      },
      "source": [
        "The file marks.txt contains the marks of students for different evaluation components. Lets do the addition of the marks for each student and then determine whether he passed or failed (passing marks = 40)."
      ]
    },
    {
      "cell_type": "code",
      "execution_count": 2,
      "metadata": {
        "colab": {
          "base_uri": "https://localhost:8080/",
          "height": 216
        },
        "id": "zGnLisMibDut",
        "outputId": "3f06a5c2-6859-4737-f1ee-eb5164152823"
      },
      "outputs": [
        {
          "output_type": "error",
          "ename": "FileNotFoundError",
          "evalue": "[Errno 2] No such file or directory: '/content/drive/My Drive/experiments/Session8/wordlist.txt'",
          "traceback": [
            "\u001b[0;31m---------------------------------------------------------------------------\u001b[0m",
            "\u001b[0;31mFileNotFoundError\u001b[0m                         Traceback (most recent call last)",
            "\u001b[0;32m/tmp/ipython-input-2500688823.py\u001b[0m in \u001b[0;36m<cell line: 0>\u001b[0;34m()\u001b[0m\n\u001b[0;32m----> 1\u001b[0;31m \u001b[0mfile\u001b[0m \u001b[0;34m=\u001b[0m \u001b[0mopen\u001b[0m\u001b[0;34m(\u001b[0m\u001b[0;34m\"/content/drive/My Drive/experiments/Session8/wordlist.txt\"\u001b[0m\u001b[0;34m,\u001b[0m\u001b[0;34m\"r\"\u001b[0m\u001b[0;34m)\u001b[0m\u001b[0;34m\u001b[0m\u001b[0;34m\u001b[0m\u001b[0m\n\u001b[0m\u001b[1;32m      2\u001b[0m \u001b[0;34m\u001b[0m\u001b[0m\n\u001b[1;32m      3\u001b[0m \u001b[0;32mtry\u001b[0m\u001b[0;34m:\u001b[0m\u001b[0;34m\u001b[0m\u001b[0;34m\u001b[0m\u001b[0m\n\u001b[1;32m      4\u001b[0m     \u001b[0mfile\u001b[0m \u001b[0;34m=\u001b[0m \u001b[0mopen\u001b[0m\u001b[0;34m(\u001b[0m\u001b[0mfile_name\u001b[0m\u001b[0;34m)\u001b[0m\u001b[0;34m\u001b[0m\u001b[0;34m\u001b[0m\u001b[0m\n\u001b[1;32m      5\u001b[0m \u001b[0;34m\u001b[0m\u001b[0m\n",
            "\u001b[0;31mFileNotFoundError\u001b[0m: [Errno 2] No such file or directory: '/content/drive/My Drive/experiments/Session8/wordlist.txt'"
          ]
        }
      ],
      "source": [
        "file = open(\"/content/drive/My Drive/experiments/Session8/wordlist.txt\",\"r\")\n",
        "\n",
        "try:\n",
        "    file = open(file_name)\n",
        "\n",
        "    names = []\n",
        "    assign_marks = []\n",
        "    midsem_marks = []\n",
        "    compre_marks = []\n",
        "\n",
        "    for line in file:\n",
        "        words = line.split()\n",
        "\n",
        "        names.append(words[0])\n",
        "        assign_marks.append(int(words[1]))\n",
        "        midsem_marks.append(int(words[2]))\n",
        "        compre_marks.append(int(words[3]))\n",
        "\n",
        "    index = 0\n",
        "    for name in names:\n",
        "        total_marks = assign_marks[index] + midsem_marks[index] + compre_marks[index]\n",
        "        if total_marks <= 40 :\n",
        "            print(\"Studnet \", name, \" failed to pass the exam.\", \" Total marks obtained = \", total_marks)\n",
        "        else:\n",
        "            print(\"Studnet \", name, \" passed the exam.\", \" Total marks obtained = \", total_marks)\n",
        "        print()\n",
        "        index = index + 1\n",
        "\n",
        "    file.close()\n",
        "\n",
        "except:\n",
        "    print(\"Some issue with file processing.\")"
      ]
    },
    {
      "cell_type": "markdown",
      "metadata": {
        "id": "R0gRia2abDuu"
      },
      "source": [
        "# Exercise"
      ]
    },
    {
      "cell_type": "markdown",
      "metadata": {
        "id": "yhtK683ubDuu"
      },
      "source": [
        "Q1. Read the content of wordlist.txt file and determine <br>\n",
        "    - all three letter words\n",
        "    - the biggest word\n",
        "    - list of duplicate words"
      ]
    },
    {
      "cell_type": "code",
      "execution_count": 10,
      "metadata": {
        "colab": {
          "base_uri": "https://localhost:8080/",
          "height": 216
        },
        "id": "_H4AZrImbDuu",
        "outputId": "feef3774-82e9-47e6-cda2-5fa38c9c5ff0"
      },
      "outputs": [
        {
          "output_type": "error",
          "ename": "FileNotFoundError",
          "evalue": "[Errno 2] No such file or directory: '/content/drive/My Drive/experiments/Session8/wordlist.txt'",
          "traceback": [
            "\u001b[0;31m---------------------------------------------------------------------------\u001b[0m",
            "\u001b[0;31mFileNotFoundError\u001b[0m                         Traceback (most recent call last)",
            "\u001b[0;32m/tmp/ipython-input-2911979685.py\u001b[0m in \u001b[0;36m<cell line: 0>\u001b[0;34m()\u001b[0m\n\u001b[0;32m----> 1\u001b[0;31m \u001b[0mfile\u001b[0m \u001b[0;34m=\u001b[0m \u001b[0mopen\u001b[0m\u001b[0;34m(\u001b[0m\u001b[0;34m\"/content/drive/My Drive/experiments/Session8/wordlist.txt\"\u001b[0m\u001b[0;34m,\u001b[0m\u001b[0;34m\"r\"\u001b[0m\u001b[0;34m)\u001b[0m\u001b[0;34m\u001b[0m\u001b[0;34m\u001b[0m\u001b[0m\n\u001b[0m\u001b[1;32m      2\u001b[0m \u001b[0mdata\u001b[0m \u001b[0;34m=\u001b[0m \u001b[0mfile\u001b[0m\u001b[0;34m.\u001b[0m\u001b[0mread\u001b[0m\u001b[0;34m(\u001b[0m\u001b[0;34m)\u001b[0m\u001b[0;34m\u001b[0m\u001b[0;34m\u001b[0m\u001b[0m\n\u001b[1;32m      3\u001b[0m \u001b[0mfile\u001b[0m\u001b[0;34m.\u001b[0m\u001b[0mclose\u001b[0m\u001b[0;34m(\u001b[0m\u001b[0;34m)\u001b[0m\u001b[0;34m\u001b[0m\u001b[0;34m\u001b[0m\u001b[0m\n\u001b[1;32m      4\u001b[0m \u001b[0;34m\u001b[0m\u001b[0m\n\u001b[1;32m      5\u001b[0m \u001b[0mwords\u001b[0m \u001b[0;34m=\u001b[0m \u001b[0mdata\u001b[0m\u001b[0;34m.\u001b[0m\u001b[0msplit\u001b[0m\u001b[0;34m(\u001b[0m\u001b[0;34m)\u001b[0m\u001b[0;34m\u001b[0m\u001b[0;34m\u001b[0m\u001b[0m\n",
            "\u001b[0;31mFileNotFoundError\u001b[0m: [Errno 2] No such file or directory: '/content/drive/My Drive/experiments/Session8/wordlist.txt'"
          ]
        }
      ],
      "source": [
        "file = open(\"/content/drive/My Drive/experiments/Session8/wordlist.txt\",\"r\")\n",
        "data = file.read()\n",
        "file.close()\n",
        "\n",
        "words = data.split()\n",
        "\n",
        "three_letter = []\n",
        "for w in words:\n",
        "    if len(w) == 3:\n",
        "        three_letter.append(w)\n",
        "\n",
        "biggest = \"\"\n",
        "for w in words:\n",
        "    if len(w) > len(biggest):\n",
        "        biggest = w\n",
        "\n",
        "duplicates = []\n",
        "for w in words:\n",
        "    if words.count(w) > 1 and w not in duplicates:\n",
        "        duplicates.append(w)\n",
        "\n",
        "print(\"Three-letter words:\", three_letter)\n",
        "print(\"Biggest word:\", biggest)\n",
        "print(\"Duplicate words:\", duplicates)\n",
        "\n",
        "\n"
      ]
    },
    {
      "cell_type": "markdown",
      "metadata": {
        "id": "Uk8Q4t9sbDuv"
      },
      "source": [
        "Q2. You are given a file called users.txt that lists log-on and log-oof times for users of a system. A typical line of the file looks like this : <br>\n",
        "    Pravin,14:22,14.37<br>\n",
        "    Pawar,13.24,13.56<br>\n",
        "Each line has three entries separated by commas : a username, a log-on time and a log-off time. Times are given in 24-hour format. You may assume that all log-ons and log-offs occurs within a single workday. <br>\n",
        "Write a program that scans through the file and prints out all users who were online for at least an hour."
      ]
    },
    {
      "cell_type": "code",
      "execution_count": 12,
      "metadata": {
        "colab": {
          "base_uri": "https://localhost:8080/",
          "height": 216
        },
        "id": "kEHPXQnpbDuv",
        "outputId": "cae02c04-15a9-49ee-9950-5b55f358297c"
      },
      "outputs": [
        {
          "output_type": "error",
          "ename": "FileNotFoundError",
          "evalue": "[Errno 2] No such file or directory: '/content/drive/My Drive/experiments/Session8/users.txt'",
          "traceback": [
            "\u001b[0;31m---------------------------------------------------------------------------\u001b[0m",
            "\u001b[0;31mFileNotFoundError\u001b[0m                         Traceback (most recent call last)",
            "\u001b[0;32m/tmp/ipython-input-1559451035.py\u001b[0m in \u001b[0;36m<cell line: 0>\u001b[0;34m()\u001b[0m\n\u001b[0;32m----> 1\u001b[0;31m \u001b[0mfile\u001b[0m \u001b[0;34m=\u001b[0m \u001b[0mopen\u001b[0m\u001b[0;34m(\u001b[0m\u001b[0;34m\"/content/drive/My Drive/experiments/Session8/users.txt\"\u001b[0m\u001b[0;34m,\u001b[0m\u001b[0;34m\"r\"\u001b[0m\u001b[0;34m)\u001b[0m\u001b[0;34m\u001b[0m\u001b[0;34m\u001b[0m\u001b[0m\n\u001b[0m\u001b[1;32m      2\u001b[0m \u001b[0mf\u001b[0m \u001b[0;34m=\u001b[0m \u001b[0mopen\u001b[0m\u001b[0;34m(\u001b[0m\u001b[0mfilename\u001b[0m\u001b[0;34m,\u001b[0m \u001b[0;34m\"r\"\u001b[0m\u001b[0;34m)\u001b[0m\u001b[0;34m\u001b[0m\u001b[0;34m\u001b[0m\u001b[0m\n\u001b[1;32m      3\u001b[0m \u001b[0mdata\u001b[0m \u001b[0;34m=\u001b[0m \u001b[0mf\u001b[0m\u001b[0;34m.\u001b[0m\u001b[0mreadlines\u001b[0m\u001b[0;34m(\u001b[0m\u001b[0;34m)\u001b[0m\u001b[0;34m\u001b[0m\u001b[0;34m\u001b[0m\u001b[0m\n\u001b[1;32m      4\u001b[0m \u001b[0mf\u001b[0m\u001b[0;34m.\u001b[0m\u001b[0mclose\u001b[0m\u001b[0;34m(\u001b[0m\u001b[0;34m)\u001b[0m\u001b[0;34m\u001b[0m\u001b[0;34m\u001b[0m\u001b[0m\n\u001b[1;32m      5\u001b[0m \u001b[0;34m\u001b[0m\u001b[0m\n",
            "\u001b[0;31mFileNotFoundError\u001b[0m: [Errno 2] No such file or directory: '/content/drive/My Drive/experiments/Session8/users.txt'"
          ]
        }
      ],
      "source": [
        "file = open(\"/content/drive/My Drive/experiments/Session8/users.txt\",\"r\")\n",
        "f = open(filename, \"r\")\n",
        "data = f.readlines()\n",
        "f.close()\n",
        "\n",
        "for line in data:\n",
        "    line = line.strip()\n",
        "    parts = line.split(\",\")\n",
        "\n",
        "    username = parts[0]\n",
        "    logon = parts[1]\n",
        "    logoff = parts[2]\n",
        "\n",
        "    on_hour, on_min = logon.split(\":\")\n",
        "    off_hour, off_min = logoff.split(\":\")\n",
        "\n",
        "    on_total = int(on_hour) * 60 + int(on_min)\n",
        "    off_total = int(off_hour) * 60 + int(off_min)\n",
        "\n",
        "    duration = off_total - on_total\n",
        "\n",
        "    if duration >= 60:\n",
        "        print(username, \"was online for\", duration, \"minutes\")\n"
      ]
    },
    {
      "cell_type": "markdown",
      "metadata": {
        "id": "nix1QWnTbDuv"
      },
      "source": [
        "# Solution"
      ]
    },
    {
      "cell_type": "code",
      "execution_count": null,
      "metadata": {
        "id": "lEDgpgcDbDuv"
      },
      "outputs": [],
      "source": [
        "# Solution1\n"
      ]
    },
    {
      "cell_type": "code",
      "execution_count": null,
      "metadata": {
        "id": "g76vPuMYbDuv"
      },
      "outputs": [],
      "source": [
        "# Solution2\n",
        "\n"
      ]
    },
    {
      "cell_type": "code",
      "execution_count": null,
      "metadata": {
        "id": "1FJmGYS4bDuv"
      },
      "outputs": [],
      "source": []
    }
  ],
  "metadata": {
    "kernelspec": {
      "display_name": "Python [conda env:base] *",
      "language": "python",
      "name": "conda-base-py"
    },
    "language_info": {
      "codemirror_mode": {
        "name": "ipython",
        "version": 3
      },
      "file_extension": ".py",
      "mimetype": "text/x-python",
      "name": "python",
      "nbconvert_exporter": "python",
      "pygments_lexer": "ipython3",
      "version": "3.12.7"
    },
    "colab": {
      "provenance": [],
      "include_colab_link": true
    }
  },
  "nbformat": 4,
  "nbformat_minor": 0
}