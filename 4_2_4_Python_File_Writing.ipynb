{
  "cells": [
    {
      "cell_type": "markdown",
      "metadata": {
        "id": "view-in-github",
        "colab_type": "text"
      },
      "source": [
        "<a href=\"https://colab.research.google.com/github/Nithin0203/OOPS-Concepts-/blob/main/4_2_4_Python_File_Writing.ipynb\" target=\"_parent\"><img src=\"https://colab.research.google.com/assets/colab-badge.svg\" alt=\"Open In Colab\"/></a>"
      ]
    },
    {
      "cell_type": "markdown",
      "metadata": {
        "id": "hmYZcxXhWPqi"
      },
      "source": [
        "# Python-File Writing"
      ]
    },
    {
      "cell_type": "markdown",
      "metadata": {
        "id": "XU6eZxXdWPqm"
      },
      "source": [
        "<b> Writing to a file - using print() function<b>"
      ]
    },
    {
      "cell_type": "markdown",
      "metadata": {
        "id": "tXm7mpQsWPqm"
      },
      "source": [
        "In order to write to a file, need to open the file first, in write mode. Then print() function can be used to write contents into the file. In order to persist the changes, the file needs to be closed."
      ]
    },
    {
      "cell_type": "code",
      "execution_count": null,
      "metadata": {
        "id": "FogxAbOWWPqn"
      },
      "outputs": [],
      "source": [
        "file_name = \"first_file.txt\"  #name of file in which content needs to be added\n",
        "\n",
        "file = open(file_name, 'w') # open it in write mode\n",
        "\n",
        "print('This is file handling', file= file)   # add some content into the file\n",
        "print('This is file writing', file= file)\n",
        "print('This will add content into the file', file= file)\n",
        "\n",
        "file.close() #close the file"
      ]
    },
    {
      "cell_type": "markdown",
      "metadata": {
        "id": "GIjv6_H0WPqp"
      },
      "source": [
        "Lets read back the content of file."
      ]
    },
    {
      "cell_type": "code",
      "execution_count": null,
      "metadata": {
        "id": "K0fJ3jEhWPqp"
      },
      "outputs": [],
      "source": [
        "file_name = \"first_file.txt\"\n",
        "\n",
        "file = open(file_name)\n",
        "print(file.read())"
      ]
    },
    {
      "cell_type": "markdown",
      "metadata": {
        "id": "BsuVipESWPqq"
      },
      "source": [
        "Lets add the content into file again."
      ]
    },
    {
      "cell_type": "code",
      "execution_count": null,
      "metadata": {
        "id": "Z58OBtb9WPqq"
      },
      "outputs": [],
      "source": [
        "file_name = \"first_file.txt\"  #name of file in which content needs to be added\n",
        "\n",
        "file = open(file_name, 'w') # open it in write mode\n",
        "\n",
        "print('This is differnt content', file= file)   # add some content into the file\n",
        "print('Lets see if this is persisted or not', file= file)\n",
        "\n",
        "file.close() #close the file"
      ]
    },
    {
      "cell_type": "markdown",
      "metadata": {
        "id": "PJraeBp5WPqr"
      },
      "source": [
        "Lets read back the content of file."
      ]
    },
    {
      "cell_type": "code",
      "execution_count": null,
      "metadata": {
        "id": "8_Yw4clCWPqr"
      },
      "outputs": [],
      "source": [
        "file_name = \"first_file.txt\"\n",
        "\n",
        "file = open(file_name)\n",
        "print(file.read())"
      ]
    },
    {
      "cell_type": "markdown",
      "metadata": {
        "id": "E3gxJqPCWPqs"
      },
      "source": [
        "If the file is existing, then its content are overwritten."
      ]
    },
    {
      "cell_type": "markdown",
      "metadata": {
        "id": "GRbMglHSWPqs"
      },
      "source": [
        "<b> Another way to write into file - using write() function <b>"
      ]
    },
    {
      "cell_type": "markdown",
      "metadata": {
        "id": "NqIHKbnrWPqs"
      },
      "source": [
        "Lets see how write() function can be used to write content into file."
      ]
    },
    {
      "cell_type": "code",
      "execution_count": null,
      "metadata": {
        "id": "ygdTek4bWPqs"
      },
      "outputs": [],
      "source": [
        "file_name = \"students.txt\"\n",
        "\n",
        "fout = open(file_name, \"w\")\n",
        "\n",
        "fout.write(\"Pravin, 10, 20, 30\\n\")\n",
        "fout.write(\"PYP, 11, 20, 33\\n\")\n",
        "fout.write(\"Pawar, 10, 34, 23\\n\")\n",
        "fout.write(\"PRavin Pawar, 8, 17, 34\\n\")\n",
        "\n",
        "fout.close()"
      ]
    },
    {
      "cell_type": "markdown",
      "metadata": {
        "id": "rfMTWnYUWPqt"
      },
      "source": [
        "Lets read back the content of file."
      ]
    },
    {
      "cell_type": "code",
      "execution_count": null,
      "metadata": {
        "id": "bKvrMMY7WPqt"
      },
      "outputs": [],
      "source": [
        "file_name = \"students.txt\"\n",
        "\n",
        "file = open(file_name)\n",
        "\n",
        "for line in file:\n",
        "    print(line)"
      ]
    },
    {
      "cell_type": "markdown",
      "metadata": {
        "id": "Mi5I-QlTWPqt"
      },
      "source": [
        "<b> Writing to a file - append mode <b>"
      ]
    },
    {
      "cell_type": "markdown",
      "metadata": {
        "id": "K_2g2wDvWPqt"
      },
      "source": [
        "If one need to write to the existing file, then file can be opened in append mode as shown in following example."
      ]
    },
    {
      "cell_type": "code",
      "execution_count": null,
      "metadata": {
        "id": "ti5rewxrWPqt"
      },
      "outputs": [],
      "source": [
        "file_name = \"students.txt\"\n",
        "\n",
        "fout = open(file_name, \"a\")\n",
        "fout.write(\"Rishikesh, 10, 20, 30\\n\")\n",
        "fout.write(\"Ritika, 10, 20, 30\\n\")\n",
        "fout.close()"
      ]
    },
    {
      "cell_type": "markdown",
      "metadata": {
        "id": "9X0-Op1oWPqt"
      },
      "source": [
        "# Exercise"
      ]
    },
    {
      "cell_type": "markdown",
      "metadata": {
        "id": "4biBVOPmWPqt"
      },
      "source": [
        "Q1. Write a program that reads a list of tempratures from a file called temps.txt, converts those temperatures into Farenheit and writes the result into file called ftemps.txt."
      ]
    },
    {
      "cell_type": "code",
      "execution_count": 2,
      "metadata": {
        "id": "7bwMwHTsWPqu",
        "colab": {
          "base_uri": "https://localhost:8080/",
          "height": 216
        },
        "outputId": "d6080d7a-5d33-4813-8b03-fd6961f4620f"
      },
      "outputs": [
        {
          "output_type": "error",
          "ename": "FileNotFoundError",
          "evalue": "[Errno 2] No such file or directory: '/content/drive/My Drive/experiments/Session8/temps.txt'",
          "traceback": [
            "\u001b[0;31m---------------------------------------------------------------------------\u001b[0m",
            "\u001b[0;31mFileNotFoundError\u001b[0m                         Traceback (most recent call last)",
            "\u001b[0;32m/tmp/ipython-input-1427600333.py\u001b[0m in \u001b[0;36m<cell line: 0>\u001b[0;34m()\u001b[0m\n\u001b[0;32m----> 1\u001b[0;31m \u001b[0mfile\u001b[0m \u001b[0;34m=\u001b[0m \u001b[0mopen\u001b[0m\u001b[0;34m(\u001b[0m\u001b[0;34m\"/content/drive/My Drive/experiments/Session8/temps.txt\"\u001b[0m\u001b[0;34m,\u001b[0m\u001b[0;34m\"r\"\u001b[0m\u001b[0;34m)\u001b[0m\u001b[0;34m\u001b[0m\u001b[0;34m\u001b[0m\u001b[0m\n\u001b[0m\u001b[1;32m      2\u001b[0m \u001b[0;34m\u001b[0m\u001b[0m\n\u001b[1;32m      3\u001b[0m \u001b[0mlines\u001b[0m \u001b[0;34m=\u001b[0m \u001b[0mfile\u001b[0m\u001b[0;34m.\u001b[0m\u001b[0mreadlines\u001b[0m\u001b[0;34m(\u001b[0m\u001b[0;34m)\u001b[0m\u001b[0;34m\u001b[0m\u001b[0;34m\u001b[0m\u001b[0m\n\u001b[1;32m      4\u001b[0m \u001b[0mfile\u001b[0m\u001b[0;34m.\u001b[0m\u001b[0mclose\u001b[0m\u001b[0;34m(\u001b[0m\u001b[0;34m)\u001b[0m\u001b[0;34m\u001b[0m\u001b[0;34m\u001b[0m\u001b[0m\n\u001b[1;32m      5\u001b[0m \u001b[0moutput_file\u001b[0m \u001b[0;34m=\u001b[0m \u001b[0mopen\u001b[0m\u001b[0;34m(\u001b[0m\u001b[0;34m\"ftemps.txt\"\u001b[0m\u001b[0;34m,\u001b[0m \u001b[0;34m\"w\"\u001b[0m\u001b[0;34m)\u001b[0m\u001b[0;34m\u001b[0m\u001b[0;34m\u001b[0m\u001b[0m\n",
            "\u001b[0;31mFileNotFoundError\u001b[0m: [Errno 2] No such file or directory: '/content/drive/My Drive/experiments/Session8/temps.txt'"
          ]
        }
      ],
      "source": [
        "file = open(\"/content/drive/My Drive/experiments/Session8/temps.txt\",\"r\")\n",
        "\n",
        "lines = file.readlines()\n",
        "file.close()\n",
        "output_file = open(\"ftemps.txt\", \"w\")\n",
        "\n",
        "for i in lines:\n",
        "    celsius_value = float(i.strip())\n",
        "    fahrenheit_value = (celsius_value * 9/5) + 32\n",
        "    output_line = str(fahrenheit_value) + \"\\n\"\n",
        "    output_file.write(output_line)\n",
        "\n",
        "output_file.close()\n",
        "\n"
      ]
    },
    {
      "cell_type": "markdown",
      "metadata": {
        "id": "_p60ozrQWPqu"
      },
      "source": [
        "Q2. You are given a file called employees.txt. A typical line in the file looks like :<br>\n",
        "    Pravin pawar     pravin.pawar@gmail.com  12341234<br>\n",
        "There is a name, email address and contact number, each separated by tabs. Write a program that reads through the file line-by-line, and for each line, capitalizes the first letter of first name and last name and adds code \"91-20\" to the contact number. Your program should write this to a new file called employees2.txt. Here is what the first line of the new file should look like : <br>    \n",
        "    Pravin Pawar     pravin.pawar@gmail.com  91-20-12341234<br>"
      ]
    },
    {
      "cell_type": "code",
      "execution_count": 5,
      "metadata": {
        "id": "HMIv5FvkWPqu",
        "colab": {
          "base_uri": "https://localhost:8080/",
          "height": 216
        },
        "outputId": "4fb5debb-84ca-4ac4-e0c8-57918c738ba9"
      },
      "outputs": [
        {
          "output_type": "error",
          "ename": "FileNotFoundError",
          "evalue": "[Errno 2] No such file or directory: '/content/drive/My Drive/experiments/Session8/employees.txt'",
          "traceback": [
            "\u001b[0;31m---------------------------------------------------------------------------\u001b[0m",
            "\u001b[0;31mFileNotFoundError\u001b[0m                         Traceback (most recent call last)",
            "\u001b[0;32m/tmp/ipython-input-3737297420.py\u001b[0m in \u001b[0;36m<cell line: 0>\u001b[0;34m()\u001b[0m\n\u001b[0;32m----> 1\u001b[0;31m \u001b[0mfile\u001b[0m \u001b[0;34m=\u001b[0m \u001b[0mopen\u001b[0m\u001b[0;34m(\u001b[0m\u001b[0;34m\"/content/drive/My Drive/experiments/Session8/employees.txt\"\u001b[0m\u001b[0;34m,\u001b[0m\u001b[0;34m\"r\"\u001b[0m\u001b[0;34m)\u001b[0m\u001b[0;34m\u001b[0m\u001b[0;34m\u001b[0m\u001b[0m\n\u001b[0m\u001b[1;32m      2\u001b[0m \u001b[0minput_file\u001b[0m \u001b[0;34m=\u001b[0m \u001b[0mopen\u001b[0m\u001b[0;34m(\u001b[0m\u001b[0;34m\"employees.txt\"\u001b[0m\u001b[0;34m,\u001b[0m \u001b[0;34m\"r\"\u001b[0m\u001b[0;34m)\u001b[0m\u001b[0;34m\u001b[0m\u001b[0;34m\u001b[0m\u001b[0m\n\u001b[1;32m      3\u001b[0m \u001b[0mlines\u001b[0m \u001b[0;34m=\u001b[0m \u001b[0minput_file\u001b[0m\u001b[0;34m.\u001b[0m\u001b[0mreadlines\u001b[0m\u001b[0;34m(\u001b[0m\u001b[0;34m)\u001b[0m\u001b[0;34m\u001b[0m\u001b[0;34m\u001b[0m\u001b[0m\n\u001b[1;32m      4\u001b[0m \u001b[0minput_file\u001b[0m\u001b[0;34m.\u001b[0m\u001b[0mclose\u001b[0m\u001b[0;34m(\u001b[0m\u001b[0;34m)\u001b[0m\u001b[0;34m\u001b[0m\u001b[0;34m\u001b[0m\u001b[0m\n\u001b[1;32m      5\u001b[0m \u001b[0;34m\u001b[0m\u001b[0m\n",
            "\u001b[0;31mFileNotFoundError\u001b[0m: [Errno 2] No such file or directory: '/content/drive/My Drive/experiments/Session8/employees.txt'"
          ]
        }
      ],
      "source": [
        "file = open(\"/content/drive/My Drive/experiments/Session8/employees.txt\",\"r\")\n",
        "input_file = open(\"employees.txt\", \"r\")\n",
        "lines = input_file.readlines()\n",
        "input_file.close()\n",
        "\n",
        "output_file = open(\"employees2.txt\", \"w\")\n",
        "\n",
        "for line in lines:\n",
        "    line = line.strip()\n",
        "    parts = line.split(\"\\t\")\n",
        "\n",
        "    first_name = parts[0].capitalize()\n",
        "    last_name = parts[1].capitalize()\n",
        "    email = parts[2]\n",
        "    contact = \"91-20-\" + parts[3]\n",
        "\n",
        "    new_line = first_name + \" \" + last_name + \"\\t\" + email + \"\\t\" + contact + \"\\n\"\n",
        "    output_file.write(new_line)\n",
        "\n",
        "output_file.close()\n",
        "\n",
        "\n"
      ]
    },
    {
      "cell_type": "markdown",
      "metadata": {
        "id": "AN457KX0WPqu"
      },
      "source": [
        "# Solution"
      ]
    },
    {
      "cell_type": "code",
      "execution_count": null,
      "metadata": {
        "id": "oWN2Y606WPqu"
      },
      "outputs": [],
      "source": [
        "#Solution 1\n",
        "\n"
      ]
    },
    {
      "cell_type": "code",
      "execution_count": null,
      "metadata": {
        "id": "KSjx1DHEWPqv"
      },
      "outputs": [],
      "source": [
        "#Solution 2\n",
        "\n"
      ]
    },
    {
      "cell_type": "code",
      "execution_count": null,
      "metadata": {
        "id": "79VGguxAWPqv"
      },
      "outputs": [],
      "source": []
    }
  ],
  "metadata": {
    "kernelspec": {
      "display_name": "Python [conda env:base] *",
      "language": "python",
      "name": "conda-base-py"
    },
    "language_info": {
      "codemirror_mode": {
        "name": "ipython",
        "version": 3
      },
      "file_extension": ".py",
      "mimetype": "text/x-python",
      "name": "python",
      "nbconvert_exporter": "python",
      "pygments_lexer": "ipython3",
      "version": "3.12.7"
    },
    "colab": {
      "provenance": [],
      "include_colab_link": true
    }
  },
  "nbformat": 4,
  "nbformat_minor": 0
}