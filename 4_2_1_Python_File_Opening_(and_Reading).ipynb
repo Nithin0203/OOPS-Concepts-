{
  "cells": [
    {
      "cell_type": "markdown",
      "metadata": {
        "id": "view-in-github",
        "colab_type": "text"
      },
      "source": [
        "<a href=\"https://colab.research.google.com/github/Nithin0203/OOPS-Concepts-/blob/main/4_2_1_Python_File_Opening_(and_Reading).ipynb\" target=\"_parent\"><img src=\"https://colab.research.google.com/assets/colab-badge.svg\" alt=\"Open In Colab\"/></a>"
      ]
    },
    {
      "cell_type": "markdown",
      "metadata": {
        "id": "ArcfCxZFWfh4"
      },
      "source": [
        "# Python -File Opening (and Reading)"
      ]
    },
    {
      "cell_type": "markdown",
      "metadata": {
        "id": "BPkds-LPWfh8"
      },
      "source": [
        "Data or text can be permanently in the files. The content present in the file are persisted even after the program execution is over.Python provides different ways by which files can be handled."
      ]
    },
    {
      "cell_type": "markdown",
      "metadata": {
        "id": "qPZAmfw9Wfh8"
      },
      "source": [
        "<b> Ways to open the file<b>"
      ]
    },
    {
      "cell_type": "markdown",
      "metadata": {
        "id": "Z7cb7-ABWfh8"
      },
      "source": [
        "Assume that there is file named \"dummy_file.txt\" present in the current directory. Lets try to read the contents of that file using Python functions."
      ]
    },
    {
      "cell_type": "markdown",
      "metadata": {
        "id": "qZotMhhJWfh9"
      },
      "source": [
        "The content of the file looks as follows : <br>\n",
        "\n",
        "This is demo file. <br>\n",
        "It contains many lines in it. <br>\n",
        "Some lines are big, some are small. <br>\n",
        "Any python program can read this file. <br>\n",
        "Any pythonp program can write into this file. <br>"
      ]
    },
    {
      "cell_type": "markdown",
      "metadata": {
        "id": "Yl9dsSIKWfh9"
      },
      "source": [
        "<b>First way - using open function directly<b>"
      ]
    },
    {
      "cell_type": "code",
      "execution_count": null,
      "metadata": {
        "id": "rBlixWZyWfh-"
      },
      "outputs": [],
      "source": [
        "file = open(\"dummy_file.txt\")  # use the open function which takes file name as input, file handle is obtained as result\n",
        "file"
      ]
    },
    {
      "cell_type": "code",
      "execution_count": null,
      "metadata": {
        "id": "7Ay7G-qfWfh_"
      },
      "outputs": [],
      "source": [
        "file_content = file.read() # Read the content and store it in variable of type string\n",
        "file_content  # it contains new line characters in it"
      ]
    },
    {
      "cell_type": "markdown",
      "metadata": {
        "id": "GOJtE47FWfiA"
      },
      "source": [
        "<b> Second way - using list comprehensions<b>"
      ]
    },
    {
      "cell_type": "markdown",
      "metadata": {
        "id": "4kK13kfqWfiA"
      },
      "source": [
        "Look at the following code that demonstrates the process of reading the lines in a file using list comprehensions"
      ]
    },
    {
      "cell_type": "code",
      "execution_count": null,
      "metadata": {
        "id": "jR90JJeBWfiB"
      },
      "outputs": [],
      "source": [
        "lines = [ line for line in open(\"dummy_file.txt\")] #\n",
        "lines"
      ]
    },
    {
      "cell_type": "markdown",
      "metadata": {
        "id": "Dch4mmwXWfiB"
      },
      "source": [
        "The above code generates the list containing lines of file as separate element of the list. For that purpose it uses list comprehension to iterate over the lines present in the file."
      ]
    },
    {
      "cell_type": "markdown",
      "metadata": {
        "id": "Q9cHIr-rWfiB"
      },
      "source": [
        "Still it contains white space and newline character at the end of each line. That also can be removed using the list comprehensions."
      ]
    },
    {
      "cell_type": "code",
      "execution_count": null,
      "metadata": {
        "id": "AstynG79WfiC"
      },
      "outputs": [],
      "source": [
        "lines = [line.strip(\" \\n\") for line in open(\"dummy_file.txt\")]  #strip out \" \\n\" from each line that is read from file\n",
        "lines"
      ]
    },
    {
      "cell_type": "markdown",
      "metadata": {
        "id": "r1dXI2YvWfiC"
      },
      "source": [
        "<b>Using file path<b>"
      ]
    },
    {
      "cell_type": "markdown",
      "metadata": {
        "id": "fMT0XlggWfiC"
      },
      "source": [
        "The file can be present in the directories. In that case, path needs to be provided while getting handle to that file. Assume that file \"dummy_file.txt\" is present in the \"dummy_dir\"."
      ]
    },
    {
      "cell_type": "code",
      "execution_count": null,
      "metadata": {
        "id": "V3R_w1MkWfiC"
      },
      "outputs": [],
      "source": [
        "file1 = open(\"dummy_dir/dummy_file.txt\") # provide the file path while getting the handle to the file\n",
        "file_content1 = file1.read()\n",
        "file_content1"
      ]
    },
    {
      "cell_type": "markdown",
      "metadata": {
        "id": "6sqsCVK6WfiC"
      },
      "source": [
        "<b> Handing file not found error <b>"
      ]
    },
    {
      "cell_type": "markdown",
      "metadata": {
        "id": "SmKmfJUQWfiD"
      },
      "source": [
        "What will happen if the required file is not present? Error will be shown as follows :"
      ]
    },
    {
      "cell_type": "code",
      "execution_count": null,
      "metadata": {
        "id": "lYSEgdUVWfiD"
      },
      "outputs": [],
      "source": [
        "no_file = open(\"my_file.txt\")"
      ]
    },
    {
      "cell_type": "markdown",
      "metadata": {
        "id": "e1f0jBBOWfiD"
      },
      "source": [
        "Error trace is shown as a result of this failed open operation. This can be handler gracefully using the try / catch block."
      ]
    },
    {
      "cell_type": "code",
      "execution_count": null,
      "metadata": {
        "id": "-cRscxFrWfiD"
      },
      "outputs": [],
      "source": [
        "try:\n",
        "    no_file = open(\"my_file.txt\")\n",
        "    content = no_file.read()\n",
        "except :\n",
        "    print(\"File not present\")"
      ]
    },
    {
      "cell_type": "markdown",
      "metadata": {
        "id": "srFhANmWWfiD"
      },
      "source": [
        "This further can be improved by accepting the file name from the user and telling them whether the file exists or not."
      ]
    },
    {
      "cell_type": "code",
      "execution_count": null,
      "metadata": {
        "id": "k6UO0HgTWfiD"
      },
      "outputs": [],
      "source": [
        "file_name = input(\"Enter the file name \\n\")\n",
        "try:\n",
        "    file = open(file_name)\n",
        "    print(\"File \", file_name, \" is present\")\n",
        "except:\n",
        "    print(\"File \", file_name, \" is not present\")\n",
        "    print(\"Recheck the file name entered\")"
      ]
    },
    {
      "cell_type": "code",
      "source": [
        "from google.colab import drive\n",
        "\n",
        "# Mount Google Drive\n",
        "drive.mount('/content/drive')"
      ],
      "metadata": {
        "colab": {
          "base_uri": "https://localhost:8080/"
        },
        "id": "NVvmXHM5gKeN",
        "outputId": "5d9f4415-c3af-414a-fb78-fc6b582f5bd8"
      },
      "execution_count": null,
      "outputs": [
        {
          "output_type": "stream",
          "name": "stdout",
          "text": [
            "Mounted at /content/drive\n"
          ]
        }
      ]
    },
    {
      "cell_type": "markdown",
      "metadata": {
        "id": "BOMJory1WfiE"
      },
      "source": [
        "# Exercise"
      ]
    },
    {
      "cell_type": "markdown",
      "metadata": {
        "id": "GP_Ixb1EWfiE"
      },
      "source": [
        "Q1. Write a program that reads a file and prints out number of lines present in it. Also outputs the size of each line."
      ]
    },
    {
      "cell_type": "code",
      "execution_count": 15,
      "metadata": {
        "colab": {
          "base_uri": "https://localhost:8080/",
          "height": 216
        },
        "id": "Yju7ncQcWfiE",
        "outputId": "cde5bc60-93e4-4b1e-8388-f8e647765a17"
      },
      "outputs": [
        {
          "output_type": "error",
          "ename": "FileNotFoundError",
          "evalue": "[Errno 2] No such file or directory: '/content/drive/My Drive/experiments/Session8/read.txt'",
          "traceback": [
            "\u001b[0;31m---------------------------------------------------------------------------\u001b[0m",
            "\u001b[0;31mFileNotFoundError\u001b[0m                         Traceback (most recent call last)",
            "\u001b[0;32m/tmp/ipython-input-1315347232.py\u001b[0m in \u001b[0;36m<cell line: 0>\u001b[0;34m()\u001b[0m\n\u001b[0;32m----> 1\u001b[0;31m \u001b[0mfile\u001b[0m\u001b[0;34m=\u001b[0m\u001b[0mopen\u001b[0m\u001b[0;34m(\u001b[0m\u001b[0;34m\"/content/drive/My Drive/experiments/Session8/read.txt\"\u001b[0m\u001b[0;34m,\u001b[0m\u001b[0;34m\"r\"\u001b[0m\u001b[0;34m)\u001b[0m\u001b[0;34m\u001b[0m\u001b[0;34m\u001b[0m\u001b[0m\n\u001b[0m\u001b[1;32m      2\u001b[0m \u001b[0mlines\u001b[0m\u001b[0;34m=\u001b[0m\u001b[0mfile\u001b[0m\u001b[0;34m.\u001b[0m\u001b[0mreadlines\u001b[0m\u001b[0;34m(\u001b[0m\u001b[0;34m)\u001b[0m\u001b[0;34m\u001b[0m\u001b[0;34m\u001b[0m\u001b[0m\n\u001b[1;32m      3\u001b[0m \u001b[0mfile\u001b[0m\u001b[0;34m.\u001b[0m\u001b[0mclose\u001b[0m\u001b[0;34m(\u001b[0m\u001b[0;34m)\u001b[0m\u001b[0;34m\u001b[0m\u001b[0;34m\u001b[0m\u001b[0m\n\u001b[1;32m      4\u001b[0m \u001b[0mprint\u001b[0m\u001b[0;34m(\u001b[0m\u001b[0;34m\"Amount of lines are\"\u001b[0m\u001b[0;34m,\u001b[0m\u001b[0mlen\u001b[0m\u001b[0;34m(\u001b[0m\u001b[0mlines\u001b[0m\u001b[0;34m)\u001b[0m\u001b[0;34m)\u001b[0m\u001b[0;34m\u001b[0m\u001b[0;34m\u001b[0m\u001b[0m\n\u001b[1;32m      5\u001b[0m \u001b[0;34m\u001b[0m\u001b[0m\n",
            "\u001b[0;31mFileNotFoundError\u001b[0m: [Errno 2] No such file or directory: '/content/drive/My Drive/experiments/Session8/read.txt'"
          ]
        }
      ],
      "source": [
        "\n",
        "file=open(\"/content/drive/My Drive/experiments/Session8/read.txt\",\"r\")\n",
        "lines=file.readlines()\n",
        "file.close()\n",
        "print(\"Amount of lines are\",len(lines))\n",
        "\n",
        "index=1\n",
        "for line in lines:\n",
        "  print(\"Lines \",index,\"size\",len(line))\n",
        "  index+=1"
      ]
    },
    {
      "cell_type": "code",
      "source": [],
      "metadata": {
        "id": "m4kwUyM4f_1b"
      },
      "execution_count": null,
      "outputs": []
    },
    {
      "cell_type": "markdown",
      "metadata": {
        "id": "rS8GxgJuWfiE"
      },
      "source": [
        "Q2. Write a program that reads a file and prints out number of words present in it. Also outputs the size of each word."
      ]
    },
    {
      "cell_type": "markdown",
      "metadata": {
        "id": "MR0O2D5MWfiF"
      },
      "source": [
        "Q3. Write a program that reads a file and prints out occurences of each word."
      ]
    },
    {
      "cell_type": "code",
      "execution_count": 13,
      "metadata": {
        "id": "R36Bs8TVWfiE",
        "colab": {
          "base_uri": "https://localhost:8080/"
        },
        "outputId": "9b63a7da-d8fb-4864-b898-211adb33b925"
      },
      "outputs": [
        {
          "output_type": "stream",
          "name": "stdout",
          "text": [
            "Error: The file 'count.txt' was not found at the specified path.\n"
          ]
        }
      ],
      "source": [
        "try:\n",
        "    file = open(\"/content/drive/My Drive/experiments/Session8/count.txt\",\"r\")\n",
        "    read = file.read()\n",
        "    file.close()\n",
        "    print(\"Number of words\", len(read.split()))\n",
        "    words = read.split()\n",
        "    index = 1\n",
        "    for word in words :\n",
        "        print(\"Word\", index, \"(\", word, \")\", \"the size\", len(word))\n",
        "        index += 1\n",
        "except FileNotFoundError:\n",
        "    print(\"Error: The file 'count.txt' was not found at the specified path.\")\n",
        "except Exception as e:\n",
        "    print(f\"An unexpected error occurred: {e}\")"
      ]
    },
    {
      "cell_type": "code",
      "execution_count": 12,
      "metadata": {
        "id": "92aFg_O2WfiF",
        "colab": {
          "base_uri": "https://localhost:8080/"
        },
        "outputId": "6c56d964-9e9c-4662-a914-a7d585ebea80"
      },
      "outputs": [
        {
          "output_type": "stream",
          "name": "stdout",
          "text": [
            "Error: The file 'wordlist.txt' was not found at the specified path.\n"
          ]
        }
      ],
      "source": [
        "try:\n",
        "    file = open(\"/content/drive/My Drive/experiments/Session8/wordlist.txt\",\"r\")\n",
        "    read = file.read()\n",
        "    file.close()\n",
        "    print(\"Number of words\", len(read.split()))\n",
        "    words = read.split()\n",
        "    index = 1\n",
        "    for word in words :\n",
        "        print(\"Word\", index, \"(\", word, \")\", \"the size\", len(word))\n",
        "        index += 1\n",
        "except FileNotFoundError:\n",
        "    print(\"Error: The file 'wordlist.txt' was not found at the specified path.\")\n",
        "except Exception as e:\n",
        "    print(f\"An unexpected error occurred: {e}\")"
      ]
    },
    {
      "cell_type": "markdown",
      "metadata": {
        "id": "RiS3gJzRWfiF"
      },
      "source": [
        "# Solution"
      ]
    },
    {
      "cell_type": "code",
      "execution_count": null,
      "metadata": {
        "id": "u3BmijqoWfiF",
        "colab": {
          "base_uri": "https://localhost:8080/"
        },
        "outputId": "32736df7-407c-485f-db99-1cd595b5a031"
      },
      "outputs": [
        {
          "output_type": "stream",
          "name": "stdout",
          "text": [
            "Error: The file 'count.txt' was not found at the specified path.\n"
          ]
        }
      ],
      "source": [
        "#Solution 1"
      ]
    },
    {
      "cell_type": "code",
      "execution_count": 8,
      "metadata": {
        "id": "DgV9UBp2WfiF"
      },
      "outputs": [],
      "source": [
        "\n"
      ]
    },
    {
      "cell_type": "code",
      "execution_count": null,
      "metadata": {
        "id": "HT79Lx7LWfiG"
      },
      "outputs": [],
      "source": [
        "#Solution 3\n",
        "\n",
        "\n"
      ]
    },
    {
      "cell_type": "code",
      "execution_count": null,
      "metadata": {
        "id": "ks1O1XV0WfiG"
      },
      "outputs": [],
      "source": []
    }
  ],
  "metadata": {
    "kernelspec": {
      "display_name": "Python [conda env:base] *",
      "language": "python",
      "name": "conda-base-py"
    },
    "language_info": {
      "codemirror_mode": {
        "name": "ipython",
        "version": 3
      },
      "file_extension": ".py",
      "mimetype": "text/x-python",
      "name": "python",
      "nbconvert_exporter": "python",
      "pygments_lexer": "ipython3",
      "version": "3.12.7"
    },
    "colab": {
      "provenance": [],
      "include_colab_link": true
    }
  },
  "nbformat": 4,
  "nbformat_minor": 0
}